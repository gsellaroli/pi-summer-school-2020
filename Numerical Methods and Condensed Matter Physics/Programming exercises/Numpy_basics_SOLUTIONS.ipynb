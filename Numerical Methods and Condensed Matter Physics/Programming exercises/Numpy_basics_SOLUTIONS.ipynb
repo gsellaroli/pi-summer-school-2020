{
 "cells": [
  {
   "cell_type": "markdown",
   "metadata": {},
   "source": [
    "For our first task, we will practice using python to deal with a single spin-1/2 particle.  The goal is to get used to python and iPython notebooks, as well as to exercise our linear algebra skills.\n",
    "\n",
    "We consider a spin-1/2 system that has two basis states, \n",
    "\\begin{align}\n",
    "\\left|\\uparrow\\right\\rangle &\\equiv \\left(\\begin{array}{c}1\\\\0\\end{array}\\right) \\\\\n",
    "\\left|\\downarrow\\right\\rangle &\\equiv \\left(\\begin{array}{c}0\\\\1\\end{array}\\right)\n",
    "\\end{align}\n",
    "\n",
    "Here I use $\\equiv$ to indicate a definition.  The basis vectors on the right are defined to be equal to the kets on the left.\n",
    "\n",
    "A general state will be of the form\n",
    "$$\\left|\\psi\\right\\rangle = a\\left|\\uparrow\\right\\rangle + b\\left|\\downarrow\\right\\rangle,$$\n",
    "where $|a|^2+|b|^2=1$, ie it is a normalized pure quantum state of a spin-1/2 system.  As a vector, this is represented as\n",
    "$$\\left|\\psi\\right\\rangle = \\left(\\begin{array}{c}a\\\\b\\end{array}\\right).$$\n",
    "\n",
    "The important operators that act on these states are the identity operator and the spin operators.  As usual in linear algebra, any operator is uniquely specified by how it acts on the basis states; using this approach, the operators are defined as follows:\n",
    "\\begin{align}\n",
    "&\\text{Id}\\left|\\uparrow\\right\\rangle = \\left|\\uparrow\\right\\rangle\\\\\n",
    "&\\text{Id}\\left|\\downarrow\\right\\rangle = \\left|\\downarrow\\right\\rangle\\\\\\\\\n",
    "&\\text{Sx}\\left|\\uparrow\\right\\rangle = \\left|\\downarrow\\right\\rangle\\\\\n",
    "&\\text{Sx}\\left|\\downarrow\\right\\rangle = \\left|\\uparrow\\right\\rangle\\\\\\\\\n",
    "&\\text{Sx}\\left|\\uparrow\\right\\rangle = i\\left|\\downarrow\\right\\rangle\\\\\n",
    "&\\text{Sx}\\left|\\downarrow\\right\\rangle = -i\\left|\\uparrow\\right\\rangle\\\\\\\\\n",
    "&\\text{Sz}\\left|\\uparrow\\right\\rangle = \\left|\\uparrow\\right\\rangle\\\\\n",
    "&\\text{Sz}\\left|\\downarrow\\right\\rangle = -\\left|\\downarrow\\right\\rangle\n",
    "\\end{align}\n",
    "\n",
    "These operators can then be represented as matrices, giving:\n",
    "$$\\text{Id} = \\left(\\begin{array}{cc} 1 & 0\\\\0&1\\end{array}\\right), \\text{Sx} = \\left(\\begin{array}{cc} 0 & 1\\\\1&0\\end{array}\\right), \\text{Sy} = \\left(\\begin{array}{cc} 0 & -i\\\\i&0\\end{array}\\right),\\text{Sz} = \\left(\\begin{array}{cc} 1 & 0\\\\0&-1\\end{array}\\right)$$\n",
    "These are of course the usual Pauli matrices.\n",
    "\n",
    "We will now practice writing these matrices using python.  We first \"import\" the numerical python, or \"numpy,\" package."
   ]
  },
  {
   "cell_type": "code",
   "execution_count": 1,
   "metadata": {},
   "outputs": [],
   "source": [
    "import numpy as np"
   ]
  },
  {
   "cell_type": "markdown",
   "metadata": {},
   "source": [
    "Writing \"as np\" just lets us call the package whatever we want so we can type that instead of numpy when we use it later.  \"np\" is the traditional abbreviation, so I highly recommended using it for all your programs.\n",
    "\n",
    "Now I will demonstrate in the next line how to input a matrix. \n",
    "\n",
    "Press Shift + Enter to execute the code.  You can also hit \">| Run\" at the top of the notebook."
   ]
  },
  {
   "cell_type": "code",
   "execution_count": 2,
   "metadata": {},
   "outputs": [],
   "source": [
    "Id = np.array( [[1,0],[0,1]] )"
   ]
  },
  {
   "cell_type": "markdown",
   "metadata": {},
   "source": [
    "Here ```[1,0]``` is the first row of the matrix, and ```[0,1]``` is the second row.  The rows are stacked to make a matrix by putting them inside an enclosing ```[ ]``` with a comma between rows.  This is then an input to the function ```array``` which is part of the numpy package.  We indicate that by using ```np.array``` which means \"function ```array``` from package ```np```.  Inputs to functions are always enclosed in parentheses.  The extra spaces inside the parentheses don't matter for python to understand your input, but are recommended for readability.  Finally, ```Id = ``` sets everything on the right of the equals sign as the value of a new variable called ```Id```.  \n",
    "\n",
    "Let's test this out on the next line.  If you execute a line of code containing just a variable name, it will print the value of the variable.  Go ahead and press Shift + Enter to execute the line. "
   ]
  },
  {
   "cell_type": "code",
   "execution_count": 3,
   "metadata": {},
   "outputs": [
    {
     "data": {
      "text/plain": [
       "array([[1, 0],\n",
       "       [0, 1]])"
      ]
     },
     "execution_count": 3,
     "metadata": {},
     "output_type": "execute_result"
    }
   ],
   "source": [
    "Id"
   ]
  },
  {
   "cell_type": "markdown",
   "metadata": {},
   "source": [
    "It prints it in a more readable form, and you can see that it really looks like the identity matrix.\n",
    "\n",
    "As a note, you can see that the line where we defined ```Id``` did not print anything.  In general, lines of code that define a variable will not print, and you need a separate line if you want to print something.  You can also explicitly call print like this:"
   ]
  },
  {
   "cell_type": "code",
   "execution_count": 4,
   "metadata": {},
   "outputs": [
    {
     "name": "stdout",
     "output_type": "stream",
     "text": [
      "[[1 0]\n",
      " [0 1]]\n"
     ]
    }
   ],
   "source": [
    "print(Id)"
   ]
  },
  {
   "cell_type": "markdown",
   "metadata": {},
   "source": [
    "If you want to print a specific text, you can use ```print('Id')``` or ```print(\"Id\")```, and you can combine text with the variable to write a readable message that will be useful in monitoring or debugging code like this: ```print(\"Id:\", Id)```."
   ]
  },
  {
   "cell_type": "code",
   "execution_count": 5,
   "metadata": {
    "scrolled": true
   },
   "outputs": [
    {
     "name": "stdout",
     "output_type": "stream",
     "text": [
      "Id\n",
      "Id\n",
      "Id: [[1 0]\n",
      " [0 1]]\n"
     ]
    }
   ],
   "source": [
    "print('Id')\n",
    "print(\"Id\")\n",
    "print(\"Id:\",Id)"
   ]
  },
  {
   "cell_type": "markdown",
   "metadata": {},
   "source": [
    "The last line doesn't look too great, but that's a consequence of how numpy prints its arrays.  Oh well.  \n",
    "\n",
    "I'll give one more example matrix:"
   ]
  },
  {
   "cell_type": "code",
   "execution_count": 6,
   "metadata": {},
   "outputs": [
    {
     "data": {
      "text/plain": [
       "array([[ 0.+0.j, -0.-1.j],\n",
       "       [ 0.+1.j,  0.+0.j]])"
      ]
     },
     "execution_count": 6,
     "metadata": {},
     "output_type": "execute_result"
    }
   ],
   "source": [
    "Sy = np.array( [[0,-1j],[1j,0]] )\n",
    "Sy"
   ]
  },
  {
   "cell_type": "markdown",
   "metadata": {},
   "source": [
    "```1j``` is how python represents the number i.  As I understand it, this is the usual notation in engineering contexts.\n",
    "\n",
    "numpy automatically detects the type of a number (real vs complex) based on the inputs.  You can see this by looking at the ```dtype``` attribute of each matrix."
   ]
  },
  {
   "cell_type": "code",
   "execution_count": 7,
   "metadata": {},
   "outputs": [
    {
     "name": "stdout",
     "output_type": "stream",
     "text": [
      "Id matrix dtype: int32\n",
      "Sy matrix dtype: complex128\n"
     ]
    }
   ],
   "source": [
    "print(\"Id matrix dtype:\", Id.dtype)\n",
    "print(\"Sy matrix dtype:\", Sy.dtype)"
   ]
  },
  {
   "cell_type": "markdown",
   "metadata": {},
   "source": [
    "We can also define vectors in the same way:"
   ]
  },
  {
   "cell_type": "code",
   "execution_count": 8,
   "metadata": {},
   "outputs": [
    {
     "data": {
      "text/plain": [
       "array([1, 0])"
      ]
     },
     "execution_count": 8,
     "metadata": {},
     "output_type": "execute_result"
    }
   ],
   "source": [
    "e1 = np.array( [1,0] )\n",
    "e1"
   ]
  },
  {
   "cell_type": "markdown",
   "metadata": {},
   "source": [
    "Now it's your turn to practice.  Fill in the definitions for Sx and Sz below, and for the second basis vector e2."
   ]
  },
  {
   "cell_type": "code",
   "execution_count": 9,
   "metadata": {},
   "outputs": [],
   "source": [
    "Sx = np.array( [[0,1],[1,0]] )\n",
    "Sz = np.array( [[1,0],[0,-1]] )\n",
    "e2 = np.array( [0,1] )"
   ]
  },
  {
   "cell_type": "markdown",
   "metadata": {},
   "source": [
    "Now we'll consider what operations we can do with a matrix:\n",
    "\n",
    "(1) Get the shape of a matrix: ```M.shape```\n",
    "\n",
    "(2) Access elements: ```M[a,b]``` returns the element in row ```a```, column ```b```.  ```M[a,:]``` or just ```M[a]``` returns the whole of row ```a```, and ```M[:,b]``` returns column ```b```.  VERY IMPORTANT NOTE: rows and columns are \"0-indexed\" meaning that the top row of a matrix and leftmost column are labeled as 0, not 1.\n",
    "\n",
    "(3) Add matrices: if two matrices M and N have the same shape, ```M+N``` will return the sum of the two matrices.  If the shapes don't match it will give an error.\n",
    "\n",
    "(4) Multiply matrices: matrix multiplication uses the ```@``` symbol.  For ```M``` (m x k) and ```N``` (k x n) matrix, ```M @ N``` returns the (m x n) matrix product.  IMPORTANT NOTES: (i) ```*``` does not work.  It returns the elementwise, or Hadamard, product instead, which you almost never want. (ii) The ```@``` operator does not exist in Python 2.  If you must use Python 2, you can use ```np.dot(M,N)``` instead.  (You should use Python 3.)\n",
    "\n",
    "(5) Raise a square matrix to a power ```n```: ```np.linalg.matrix_power(M, n)```.  NOTE: Do not do ```M**n```, which will raise every element of ```M``` to power ```n``` individually.\n",
    "\n",
    "(6) Multiply by a vector.  To act on a length k vector with an (m x k) matrix, use ```M @ v``` just like for multiplying two matrices.\n",
    "\n",
    "(7) Take a transpose.  Either ```M.transpose()``` or ```np.transpose(M)```.\n",
    "\n",
    "(8) Take complex conjugate.  ```M.conjugate()``` or ```M.conj()``` or ```np.conjugate(M)``` or ```np.conj(M)```.\n",
    "\n",
    "(9) Take adjoint/Hermitian conjugate: no shortcut, you have to do (7) and (8).\n",
    "\n",
    "(10) Find the \"norm\" of the matrix, which is the square root of the sum of absolute value squared of all elements in the matrix, using ```np.linalg.norm(M)```.\n",
    "\n",
    "(11) Get eigenvalues and eigenvectors: ```e, v = np.linalg.eig(M)```.  ```e``` is a vector containing the eigenvalues of ```M```, and ```v``` is a vector whose columns are the corresponding eigenvectors.  So eg ```v[:,1]``` will give the eigenvector corresponding to the eigenvalue ```e[1]```.\n",
    "\n",
    "(12) Compare matrices.  In python you can generally check equality using ```a == b```, which will return ```True``` if ```a``` and ```b``` are equal and ```False``` otherwise, but there are some serious issues.  First, for matrices this checks elementwise, so if two matrices are equal it will return ```np.array( [[True,True],[True,True]] )```.  This is pretty annoying to work with.  Instead you can use ```np.array_equal(M,N)``` which will retun a single ```True``` or ```False``` as expected.  There is a still a problem with numerical error, as for example $1 + 10^{-16}$ and $1$ are probably actually equal but the function will return ```False```.  So it is usually best to instead check the size of the difference between the matrices, like this: ```np.linalg.norm(M-N) < 10**-12```.  \n",
    "\n",
    "=============\n",
    "\n",
    "Let's practice.  Check the following, using these operations and the matrices you've defined above:\n",
    "\n",
    "(1) Each of the Pauli matrices is Hermitian (I demonstrate this one for Sy as an example).\n",
    "\n",
    "(2) Each Pauli matrix squares to the identity.\n",
    "\n",
    "(3) Each Pauli matrix has eigenvalues 1 and -1.\n",
    "\n",
    "(4) $S_x \\times S_y = i S_z$, $S_y \\times S_z = i S_x$, and $S_z \\times S_x = i S_y$"
   ]
  },
  {
   "cell_type": "code",
   "execution_count": 15,
   "metadata": {
    "scrolled": true
   },
   "outputs": [
    {
     "name": "stdout",
     "output_type": "stream",
     "text": [
      "True\n",
      "True\n",
      "True\n",
      "True\n",
      "True\n",
      "True\n",
      "True\n",
      "(array([ 1., -1.]), array([[ 0.70710678, -0.70710678],\n",
      "       [ 0.70710678,  0.70710678]]))\n",
      "(array([ 1.+0.j, -1.+0.j]), array([[-0.        -0.70710678j,  0.70710678+0.j        ],\n",
      "       [ 0.70710678+0.j        ,  0.        -0.70710678j]]))\n",
      "(array([ 1., -1.]), array([[1., 0.],\n",
      "       [0., 1.]]))\n",
      "True\n",
      "True\n",
      "True\n"
     ]
    }
   ],
   "source": [
    "print( np.array_equal(Sy.conj().transpose(), Sy) )\n",
    "print( np.linalg.norm(Sy.conj().transpose() - Sy) < 10**-12 )\n",
    "# Your code for the rest goes here <= By putting '#' at the start of a line, it makes a 'comment' that does nothing so you\n",
    "#   can type instructions or info for yourself or others who will read your code\n",
    "print( np.linalg.norm(Sx.conj().transpose() - Sx) < 10**-12 )\n",
    "print( np.linalg.norm(Sz.conj().transpose() - Sz) < 10**-12 )\n",
    "\n",
    "print( np.linalg.norm(Sy @ Sy - Id) < 10**-12 )\n",
    "print( np.linalg.norm(Sx @ Sx - Id) < 10**-12 )\n",
    "print( np.linalg.norm(Sz @ Sz - Id) < 10**-12 )\n",
    "\n",
    "print( np.linalg.eig(Sx) )\n",
    "print( np.linalg.eig(Sy) )\n",
    "print( np.linalg.eig(Sz) )\n",
    "\n",
    "print( np.linalg.norm(Sx @ Sy - 1j * Sz) < 10**-12 )\n",
    "print( np.linalg.norm(Sy @ Sz - 1j * Sx) < 10**-12 )\n",
    "print( np.linalg.norm(Sz @ Sx - 1j * Sy) < 10**-12 )"
   ]
  },
  {
   "cell_type": "markdown",
   "metadata": {},
   "source": [
    "We can write this program more efficiently by using a ```for``` loop.  This can automatically iterate through any list, including a list of matrices.  See the following example, then try to rewrite (1) - (3) using this style.  \n",
    "\n",
    "In the example, ```for M in [Sx,Sy,Sz]:``` sets the variable ```M``` equal to each element of the list, then executes whatever is indented in following lines for that value of ```M```, in this case checking that ```M``` is Hermitian."
   ]
  },
  {
   "cell_type": "code",
   "execution_count": 16,
   "metadata": {},
   "outputs": [
    {
     "name": "stdout",
     "output_type": "stream",
     "text": [
      "True\n",
      "True\n",
      "(array([ 1., -1.]), array([[ 0.70710678, -0.70710678],\n",
      "       [ 0.70710678,  0.70710678]]))\n",
      "True\n",
      "True\n",
      "(array([ 1.+0.j, -1.+0.j]), array([[-0.        -0.70710678j,  0.70710678+0.j        ],\n",
      "       [ 0.70710678+0.j        ,  0.        -0.70710678j]]))\n",
      "True\n",
      "True\n",
      "(array([ 1., -1.]), array([[1., 0.],\n",
      "       [0., 1.]]))\n"
     ]
    }
   ],
   "source": [
    "for M in [Sx, Sy, Sz]:\n",
    "    print(np.array_equal(M.conj().transpose(), M))\n",
    "    print( np.linalg.norm(M @ M - Id) < 10**-12 )\n",
    "    print( np.linalg.eig(M) )"
   ]
  },
  {
   "cell_type": "markdown",
   "metadata": {},
   "source": [
    "Next, we will use numpy to do a somewhat less trivial calculation.  Sx, Sy, and Sz form three components of a vector, **S**=(Sx,Sy,Sz).  So $S_x = \\hat{x}\\cdot \\mathbf{S}$, $S_y = \\hat{y}\\cdot \\mathbf{S}$, and $S_z = \\hat{z}\\cdot \\mathbf{S}$.  We can consider a more general projection of this spin operator, $S_n = \\hat{n}\\cdot \\mathbf{S}$ where $\\hat{n} = (\\sin(\\theta)\\cos(\\phi),\\sin(\\theta)\\sin(\\phi),\\cos(\\theta))$, and try to find the eigenvalues of this operator.  (Note: you can get the trig functions using ```np.sin(theta)```, ```np.cos(theta)```.)  Now, this is an exercise you have almost certainly done in your QM class, so you probably know the answer already, but let's confirm it numerically:"
   ]
  },
  {
   "cell_type": "code",
   "execution_count": 24,
   "metadata": {},
   "outputs": [
    {
     "name": "stdout",
     "output_type": "stream",
     "text": [
      "[ 1.-4.85769585e-18j -1.+4.85769585e-18j]\n"
     ]
    }
   ],
   "source": [
    "theta = 0.345\n",
    "phi = 0.789\n",
    "n = np.array( [np.sin(theta)*np.cos(phi),np.sin(theta)*np.sin(phi),np.cos(theta)] )\n",
    "Sn = n[0]*Sx + n[1]*Sy + n[2]*Sz\n",
    "#Sn = np.tensordot(n, np.array([Sx,Sy,Sz]), axes=[[0],[0]])\n",
    "e, v = np.linalg.eig(Sn)\n",
    "print(e)"
   ]
  },
  {
   "cell_type": "markdown",
   "metadata": {},
   "source": [
    "Finally, we will practice using python to perform a change of basis, from $\\{\\left|\\uparrow\\right\\rangle,\\left|\\downarrow\\right\\rangle\\}$ to $\\{\\left|\\rightarrow\\right\\rangle,\\left|\\leftarrow\\right\\rangle\\}$.  As we discussed, this is given by conjugation by the Hadamard gate, \n",
    "$$H = \\frac{1}{\\sqrt{2}}\\left(\\begin{array}{cc} 1 & 1\\\\ 1&-1\\end{array}\\right)$$\n",
    "Fill in the following code:"
   ]
  },
  {
   "cell_type": "code",
   "execution_count": 20,
   "metadata": {},
   "outputs": [
    {
     "name": "stdout",
     "output_type": "stream",
     "text": [
      "[[ 1.  0.]\n",
      " [ 0. -1.]]\n",
      "[[0.-2.23711432e-17j 0.+1.00000000e+00j]\n",
      " [0.-1.00000000e+00j 0.+2.23711432e-17j]]\n",
      "[[0. 1.]\n",
      " [1. 0.]]\n"
     ]
    }
   ],
   "source": [
    "H = np.array( [[1,1],[1,-1]] )/np.sqrt(2)\n",
    "for M in [Sx, Sy, Sz]:\n",
    "    x_basis_M = H @ M @ H\n",
    "    print(x_basis_M)"
   ]
  },
  {
   "cell_type": "code",
   "execution_count": null,
   "metadata": {},
   "outputs": [],
   "source": []
  }
 ],
 "metadata": {
  "kernelspec": {
   "display_name": "Python 3",
   "language": "python",
   "name": "python3"
  },
  "language_info": {
   "codemirror_mode": {
    "name": "ipython",
    "version": 3
   },
   "file_extension": ".py",
   "mimetype": "text/x-python",
   "name": "python",
   "nbconvert_exporter": "python",
   "pygments_lexer": "ipython3",
   "version": "3.6.5"
  }
 },
 "nbformat": 4,
 "nbformat_minor": 2
}
